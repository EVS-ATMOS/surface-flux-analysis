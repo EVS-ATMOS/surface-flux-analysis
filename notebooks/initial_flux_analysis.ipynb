{
 "cells": [
  {
   "cell_type": "markdown",
   "metadata": {},
   "source": [
    "<img src=\"https://www.arm.gov/uploads/ECOR_new_SGP1.jpg\" width=800 alt=\"ARM ECOR Banner\"></img>"
   ]
  },
  {
   "cell_type": "markdown",
   "metadata": {},
   "source": [
    "# Surface Flux Analysis"
   ]
  },
  {
   "cell_type": "markdown",
   "metadata": {},
   "source": [
    "---"
   ]
  },
  {
   "cell_type": "markdown",
   "metadata": {},
   "source": [
    "## Overview\n",
    "The Atmospheric Radiation Measurement (ARM) user facility has a significant data record of surface flux (momentum, sensible and latent heat, and CO2) data available at multiple locations around the Southern Great Plains (SGP) observatory.  This project will explore long-term data analysis of the fluxes and break down the flux statistics by vegetation type.  Students will gain experience with Python, surface flux data, ARM, and open-source software. Topics included in this notebook are:\n",
    "\n",
    "1. What is the ARM Eddy Correlation Measurement System (ECOR)?\n",
    "1. Downloading and Reading in ECOR data\n",
    "1. Quality controlling ECOR data at SGP\n",
    "1. Crop Type Information\n",
    "1. Putting it all together!"
   ]
  },
  {
   "cell_type": "markdown",
   "metadata": {},
   "source": [
    "## Prerequisites\n",
    "This notebook will rely heavily on Python and the [Atmospheric data Community Toolkit (ACT)](https://github.com/ARM-DOE/ACT).  Don't worry if you don't have experience with either, this notebook will walk you though what you need to know.\n",
    "\n",
    "You will also need an account and token to download data using the ARM Live webservice.  Navigate to the [webserive information page](https://adc.arm.gov/armlive/) and log in to get your token.  Your account username will be your ARM username.\n",
    "\n",
    "| Concepts | Importance | Notes |\n",
    "| --- | --- | --- |\n",
    "| [ACT](https://github.com/ARM-DOE/ACT) | Helpful | |\n",
    "\n",
    "- **Time to learn**: 60 Minutes\n",
    "- **System requirements**:\n",
    "    - Python 3.11 or latest\n",
    "    - ACT v1.4.5 or latest\n",
    "    - numpy\n",
    "    - xarray\n",
    "    - matplotlib"
   ]
  },
  {
   "cell_type": "markdown",
   "metadata": {},
   "source": [
    "---"
   ]
  },
  {
   "cell_type": "markdown",
   "metadata": {},
   "source": [
    "## Imports"
   ]
  },
  {
   "cell_type": "code",
   "execution_count": null,
   "metadata": {},
   "outputs": [],
   "source": [
    "import act\n",
    "import numpy as np\n",
    "import xarray as xr\n",
    "import matplotlib.pyplot as plt"
   ]
  },
  {
   "cell_type": "markdown",
   "metadata": {},
   "source": [
    "## What is the ARM Eddy Correlation Measurement System (ECOR)?\n"
   ]
  },
  {
   "cell_type": "markdown",
   "metadata": {},
   "source": [
    "The eddy correlation (ECOR) flux measurement system provides half-hour measurements of the surface turbulent fluxes of momentum, sensible heat, latent heat, and carbon dioxide. The ECOR uses the eddy covariance technique, which involves correlation of the vertical wind component with the horizontal wind component, air temperature, water vapor density, and CO2 density.\n",
    "\n",
    "More information on the system can be found on [ARM's ECOR instrument page](https://arm.gov/capabilities/instruments/ecor).  Please note that the [Instrument Handbook](https://www.arm.gov/publications/tech_reports/handbooks/ecor_handbook.pdf) has a lot of useful information in it as well, including some good quality control information that will come in handy later.\n",
    "\n",
    "### Why are fluxes important?\n",
    "\n",
    "Land-atmosphere interactions (LAI) are the main drivers of earth's surface water and energy budgets.  Understanding how energy, heat, and greenhouse gases flow from the surface is important for verifying and improving global climate models.  Understanding the impact crop type has on these fluxes can have wide impacts as 52% of the U.S. land base is used for agriculture ([USDA](https://www.ers.usda.gov/topics/farm-economy/land-use-land-value-tenure/#:~:text=Agricultural%20production%20is%20a%20major,of%20the%20U.S.%20land%20base.)) with the Food and Agriculture Organization of the United Nations indicating that roughly 38% of the entire world is dedicated to agriculture."
   ]
  },
  {
   "cell_type": "markdown",
   "metadata": {},
   "source": [
    "## Downloading and Reading in ARM Data\n",
    "In this section, you will download data from ARM's Live Data Web Service and read it in to an xarray dataset using ACT.  __Warning!  Do not commit your username and token to the Github repo!  You do not want to make these public__\n",
    "\n",
    "If you read the instrument webpage, it noted that the 30ecor datastream has the uncorrected fluxes and it's recommended that routine ECOR corrections are applied.  The corrected data are available in the 30qcecor Value-Added Product (VAP) so that is what we are going to be working with.  Note that this dataset is only available from 2010 onward and the SGP ECOR systems were upgraded in October 2019 and are producing corrected fluxes in the ECORSF datastream.  While the QCECOR product has corrected fluxes it doees not include wind direction and speed that we will need later on so we will need to download both the QCECOR and base ECOR data products."
   ]
  },
  {
   "cell_type": "markdown",
   "metadata": {},
   "source": [
    "### Downloading data"
   ]
  },
  {
   "cell_type": "code",
   "execution_count": null,
   "metadata": {
    "scrolled": true
   },
   "outputs": [],
   "source": [
    "# Set your ARM Live data username and password.\n",
    "username = 'YourUserName'\n",
    "token = 'YourToken'\n",
    "\n",
    "# Set the datastream and dates for download.  Let's just look at one week to start\n",
    "# If you don't know the datastream you can always download through data discovery as well\n",
    "# https://adc.arm.gov/discovery/#/\n",
    "# You can also easily change the facility (E14) to other ones as well\n",
    "datastream = 'sgp30qcecorE14.s1'\n",
    "startdate = '20180501'\n",
    "enddate = '20180507'\n",
    "\n",
    "# Download data using the webservice\n",
    "qcecor_files = act.discovery.download_data(username, token, datastream, startdate, enddate)\n",
    "\n",
    "# Download ECOR data using the webservice\n",
    "datastream = 'sgp30ecorE14.b1'\n",
    "ecor_files = act.discovery.download_data(username, token, datastream, startdate, enddate)"
   ]
  },
  {
   "cell_type": "markdown",
   "metadata": {},
   "source": [
    "### Reading in data"
   ]
  },
  {
   "cell_type": "code",
   "execution_count": null,
   "metadata": {},
   "outputs": [],
   "source": [
    "# Reading in data to an xarray dataset is very easy using ACT\n",
    "# ARM has some standards that can cause issues with the xarray reader at times\n",
    "ds = act.io.armfiles.read_netcdf(qcecor_files)\n",
    "ds_ecor = act.io.armfiles.read_netcdf(ecor_files)\n",
    "\n",
    "# Add the wind speed and dir to the main object\n",
    "ds['wind_dir'] = ds_ecor['wind_dir']\n",
    "ds['wind_spd'] = ds_ecor['wind_spd']\n",
    "\n",
    "# Print this out to the screen so you can see the variables\n",
    "# Note that QCECOR dataset does not have CO2 fluxes and that each flux\n",
    "# variable has a quality control variable (qc_[name])\n",
    "ds\n",
    "\n",
    "\n",
    "# Additional work could be to look at what it take to correct the CO2 Flux data\n",
    "# or to analyze the newere ECORSF data as a comparison."
   ]
  },
  {
   "cell_type": "markdown",
   "metadata": {},
   "source": [
    "# Quick Plots"
   ]
  },
  {
   "cell_type": "code",
   "execution_count": null,
   "metadata": {},
   "outputs": [],
   "source": [
    "# We can use xarray funcationality to quickly plot up the data\n",
    "ds['sensible_heat_flux'].plot()"
   ]
  },
  {
   "cell_type": "code",
   "execution_count": null,
   "metadata": {},
   "outputs": [],
   "source": [
    "# Let's just make sure the wind data looks good as well\n",
    "ds['wind_spd'].plot()"
   ]
  },
  {
   "cell_type": "markdown",
   "metadata": {},
   "source": [
    "## Quality Control of ECOR Data\n",
    "\n",
    "If you read through the ECOR instrument handbook, you may have noticed that at some sites, there is not sufficient fetch for the measurements and the data are suspect.  We need to be able to apply those limits to the data as well as filter the data based on the qc variables that are included in the file.  Additionally, ARM instrument experts (Mentors) routinely write data quality reports (DQR) on the data if there are problems.  This section will look at how to use all this information to QC the data."
   ]
  },
  {
   "cell_type": "code",
   "execution_count": null,
   "metadata": {},
   "outputs": [],
   "source": [
    "# First, let's build a function that has the \"Good\" fetch directions defined\n",
    "def get_arm_fetch(site, fac):\n",
    "    \"\"\"\n",
    "    Each SGP ECOR site has specific directions where the fetch is good\n",
    "    These ranges list are of good fetch directions\n",
    "    \"\"\"\n",
    "    ranges=[]\n",
    "    if site == 'sgp':\n",
    "        if fac == 'E1':  #ECOR\n",
    "            ranges = [[0, 53], [120, 360]]\n",
    "        if fac == 'E2':  # EBBR\n",
    "            ranges = [[71, 137], [223, 289]]\n",
    "        if fac == 'E3':  #ECOR\n",
    "            ranges = [[0, 48], [132, 260]]\n",
    "        if fac == 'E4':  # EBBR\n",
    "            ranges = [[0, 158], [202, 360]]\n",
    "        if fac == 'E5':  #ECOR\n",
    "            ranges = [[80, 154], [154, 260]]\n",
    "        if fac == 'E6':  #ECOR\n",
    "            ranges = [[0, 360]]\n",
    "        if fac == 'E7':  # EBBR\n",
    "            ranges = [[0, 244], [296, 360]]\n",
    "        if fac == 'E8':  # EBBR\n",
    "            ranges = [[0, 224], [314, 360]]\n",
    "        if fac == 'E9':  # EBBR\n",
    "            ranges = [[0, 360]]\n",
    "        if fac == 'E10':  #ECOR\n",
    "            ranges = [[0, 360]]\n",
    "        if fac == 'E11':  # EBBR\n",
    "            ranges = [[0, 360]]\n",
    "        if fac == 'E12':  # EBBR\n",
    "            ranges = [[0, 360]]\n",
    "        if fac == 'E13':  # EBBR\n",
    "            ranges = [[0, 52], [142, 194], [328, 360]]\n",
    "        if fac == 'E14':  #ECOR\n",
    "            ranges = [[129, 265], [352, 360], [0, 85]]\n",
    "        if fac == 'E15':  # EBBR\n",
    "            ranges = [[133, 360]]\n",
    "        if fac == 'E16':  #ECOR\n",
    "            ranges = [[134, 269], [334, 360]]\n",
    "        if fac == 'E18':  # EBBR\n",
    "            ranges = [[138, 325]]\n",
    "        if fac == 'E19':  # EBBR\n",
    "            ranges = [[0, 133], [151, 360]]\n",
    "        if fac == 'E20':  # EBBR\n",
    "            ranges = [[0, 230], [310, 360]]\n",
    "        if fac == 'E21':  #ECOR\n",
    "            ranges = [[30, 360]]\n",
    "        if fac == 'E22':  # EBBR\n",
    "            ranges = [[0, 49], [139, 360]]\n",
    "        if fac == 'E24':  #ECOR\n",
    "            ranges = [[80, 280]]\n",
    "        if fac == 'E25':  # EBBR\n",
    "            ranges = [[30, 360]]\n",
    "        if fac == 'E26':  # EBBR\n",
    "            ranges = [[0, 33], [243, 360]]\n",
    "        if fac == 'E27':  # EBBR\n",
    "            ranges = [[20,156]]\n",
    "        if fac == 'E31':  #ECOR\n",
    "            ranges = [[100, 200], [30, 80]]\n",
    "        if fac == 'E32':  # EBBR\n",
    "            ranges = [[0,360]]\n",
    "        if fac == 'E33':  #ECOR\n",
    "            ranges = [[100, 300], [40, 80]]\n",
    "        if fac == 'E34':  # EBBR\n",
    "            ranges = [[0,360]]\n",
    "        if fac == 'E35':  # EBBR\n",
    "            ranges = [[0,360]]\n",
    "        if fac == 'E36':  # EBBR\n",
    "            ranges = [[0,360]]\n",
    "        if fac == 'E37':  #ECOR\n",
    "            ranges = [[135, 260], [280, 310]]\n",
    "        if fac == 'E38':  #ECOR\n",
    "            ranges = [[150, 260]]\n",
    "        if fac == 'E39':  #ECOR\n",
    "            ranges = [[100, 260], [280, 360], [0, 80]]\n",
    "        if fac == 'E40':  # EBBR\n",
    "            ranges = [[0,360]]\n",
    "        if fac == 'E41':  #ECOR\n",
    "            ranges = [[100, 260], [280, 360], [0, 80]]\n",
    "\n",
    "    return ranges"
   ]
  },
  {
   "cell_type": "code",
   "execution_count": null,
   "metadata": {},
   "outputs": [],
   "source": [
    "# Let's first apply DQRs (if any) to the data\n",
    "# This will print out a link to the full DQR if there is one\n",
    "ds = act.qc.arm.add_dqr_to_qc(ds, dqr_link=True)\n",
    "\n",
    "# Next, we will filter the data based on the QC\n",
    "# Let's only remove the \"Bad\" data for now\n",
    "# The VAP may also automatically set the data to NAN when it fails QC\n",
    "ds.qcfilter.datafilter(rm_assessments=['Bad'], del_qc_var=False)\n",
    "\n",
    "# We could filter the data based on winds here, but it may be easier to\n",
    "# do when we are getting the crop information for each wind direction"
   ]
  },
  {
   "cell_type": "markdown",
   "metadata": {},
   "source": [
    "### Crop Type Information\n",
    "\n",
    "ACT has a function to access crop type data from the [USDA Cropscape](https://nassgeodata.gmu.edu/CropScape) portal.  This is somewhat of an odd feature to have in ACT, but surface type information is very important to surface meteorological measurements.  Let's get the crop type for each wind sample and see if there are ways you can think of to make this more effecient for processing large datasets.\n",
    "\n",
    "Don't forget that crop types may change by year!"
   ]
  },
  {
   "cell_type": "code",
   "execution_count": null,
   "metadata": {},
   "outputs": [],
   "source": [
    "# Get data variables\n",
    "wdir = ds['wind_dir'].values\n",
    "lat = ds['lat'].values\n",
    "lon = ds['lon'].values\n",
    "time = ds['time'].values\n",
    "\n",
    "# We will need the year for getting the crop type\n",
    "year = time.astype('datetime64[Y]').astype(int) + 1970\n",
    "\n",
    "# Get good fetch ranges for this site\n",
    "site = ds.attrs['site_id']\n",
    "fac = ds.attrs['facility_id']\n",
    "ranges = get_arm_fetch(site, fac)\n",
    "\n",
    "# Run through each wind sample and get the crop type\n",
    "# Run through each wind direction and get crop type based on wind direction\n",
    "# Default of 100 m distance, but not sure if that needs to be updated.\n",
    "# QC flag will be set to either 0 or 1 for good or bad data\n",
    "\n",
    "# Note!  You will see some warnings come through\n",
    "crop = []\n",
    "qc_crop = []\n",
    "for i, d in enumerate(wdir):\n",
    "    lat2, lon2 = act.utils.geo_utils.destination_azimuth_distance(lat[0], lon[0], d, 100.)\n",
    "    if np.isnan(lat2) or np.isnan(lon2):\n",
    "        crop.append(np.nan)\n",
    "    else:\n",
    "        crop.append(act.discovery.get_cropscape.croptype(lat2, lon2, year[i]))\n",
    "    flag = 1\n",
    "    for r in ranges:\n",
    "        if r[0] <= d <= r[1]:\n",
    "            flag = 0\n",
    "    if flag == 1:\n",
    "        qc_crop.append(1)\n",
    "    else:\n",
    "        qc_crop.append(0)\n",
    "\n",
    "# Add crop type and QC flag to existing object\n",
    "atts = {'long_name': 'Crop type information based on wind direction as taken from CropScape',\n",
    "            'units': 'unitless'}\n",
    "da = xr.DataArray(data=crop, dims=ds['wind_dir'].dims, name='crop_type', attrs=atts)\n",
    "ds['crop_type'] = da \n",
    "        \n",
    "ds.qcfilter.create_qc_variable('crop_type',flag_type=True)\n",
    "ds['qc_crop_type'].values = qc_crop\n",
    "ds['qc_crop_type'].attrs['flag_values'] = [0,1]\n",
    "ds['qc_crop_type'].attrs['flag_meanings'] = ['Sufficient Fetch','Insufficient Fetch']\n",
    "ds['qc_crop_type'].attrs['flag_assessments'] = ['Good','Suspect']\n"
   ]
  },
  {
   "cell_type": "markdown",
   "metadata": {},
   "source": [
    "### Putting it All Together\n",
    "\n",
    "We have the ECOR data, we have the crop data, now let's look at the results!"
   ]
  },
  {
   "cell_type": "code",
   "execution_count": null,
   "metadata": {},
   "outputs": [],
   "source": [
    "# First let's plot out all the data\n",
    "hist = act.plotting.HistogramDisplay(ds)\n",
    "hist.plot_stairstep_graph('sensible_heat_flux')"
   ]
  },
  {
   "cell_type": "code",
   "execution_count": null,
   "metadata": {},
   "outputs": [],
   "source": [
    "# Next let's look at the crop types we have for this site\n",
    "ds['crop_type'].values"
   ]
  },
  {
   "cell_type": "code",
   "execution_count": null,
   "metadata": {},
   "outputs": [],
   "source": [
    "# Let's pick two of these to plot up\n",
    "# Feel free to change the types around as well\n",
    "ds_alfalfa = ds.where(ds.crop_type == 'Alfalfa')\n",
    "ds_wheat = ds.where(ds.crop_type == 'Winter Wheat')\n",
    "\n",
    "# Let's plot again\n",
    "hist = act.plotting.HistogramDisplay({'Alfalfa': ds_alfalfa, 'Wheat': ds_wheat})\n",
    "hist.plot_stairstep_graph('sensible_heat_flux', dsname='Alfalfa', label='Alfalfa')\n",
    "hist.plot_stairstep_graph('sensible_heat_flux', dsname='Wheat', label='Wheat')\n",
    "plt.legend()"
   ]
  },
  {
   "cell_type": "code",
   "execution_count": null,
   "metadata": {},
   "outputs": [],
   "source": [
    "# Lets try a different type of display that will show at\n",
    "# which wind direction and speeds we see larger fluxes\n",
    "display = act.plotting.WindRoseDisplay({'Alfalfa': ds_alfalfa, 'Wheat': ds_wheat},\n",
    "                                       subplot_shape=(1,2), figsize=(16,10))\n",
    "display.plot_data('wind_dir', 'wind_spd', 'sensible_heat_flux', num_dirs=12, \n",
    "                  plot_type='contour', dsname='Alfalfa', subplot_index=(0,0), contour_type='mean')\n",
    "display.plot_data('wind_dir', 'wind_spd', 'sensible_heat_flux', num_dirs=12, \n",
    "                  plot_type='contour', dsname='Wheat', subplot_index=(0,1), contour_type='mean')"
   ]
  },
  {
   "cell_type": "markdown",
   "metadata": {},
   "source": [
    "### What do we see?\n",
    "\n",
    "The above stairstep graph shows there are some differences in sensible heat flux between alfalfa and wheat during this period but it's hard to tell at which stage of their growing cycle each crop was.  Some more investigation might be warranted.  Site operations keeps logs of vegetation at each of the sites which could provide more detailed information.  \n",
    "\n",
    "In the second set of plots, more data would definitely help fill in the contours and we might see some interesting features of the fluxes based on the direction and speed.\n",
    "\n",
    "Any other observations?"
   ]
  },
  {
   "cell_type": "markdown",
   "metadata": {},
   "source": [
    "---"
   ]
  },
  {
   "cell_type": "markdown",
   "metadata": {},
   "source": [
    "## Next Steps\n",
    "\n",
    "This was just a quick example for processing a weeks worth of data from one facility at ARM's SGP site.  There is much more data to get processing on!\n",
    "\n",
    "1. Look at how you can improve the function to get the crop type based on wind direction.  It might be best to get the crop types by wind direction for every degree or 2 for a single year and use that instead of querying the API for each sample.\n",
    "1. Process a year's worth of data and see what that looks like!\n",
    "1. Develop some statistics that you can track for each crop type (min, max, median, mean are a good start) by year\n",
    "1. Look at other variables like latent_heat_flux.  We can also look at the uncorrected CO2 Flux from the ECOR datastream or look at the new ECORSF data to see how it compares.\n",
    "1. Now that this process is set, are there other systems or variables that would be interesting to look at?\n",
    "1. Have fun!  This project is for you to get familiar with ARM, Fluxes, and explore data!"
   ]
  },
  {
   "cell_type": "markdown",
   "metadata": {},
   "source": [
    "## Resources and references\n",
    "\n",
    "### Datasets used in this example\n",
    "Xie, S. Quality Controlled Eddy Correlation Flux Measurement (30QCECOR). Atmospheric Radiation Measurement (ARM) User Facility. https://doi.org/10.5439/1097546\n",
    "\n",
    "Sullivan, R., Billesbach, D., Keeler, E., & Ermold, B. Eddy Correlation Flux Measurement System (30ECOR). Atmospheric Radiation Measurement (ARM) User Facility. https://doi.org/10.5439/1025039\n",
    "\n",
    "### Cropscape Citations\n",
    "Han, W., Yang, Z., Di, L., Yue, P., 2014. A geospatial Web service approach for creating on-demand Cropland Data Layer thematic maps. Transactions of the ASABE, 57(1), 239-247.\n",
    "\n",
    "Han, W., Yang, Z., Di, L., Yagci, A., Han, S., 2014. Making Cropland Data Layer data accessible and actionable in GIS education. Journal of Geography, 113(3), 129-138.\n",
    "\n",
    "Han, W., Yang, Z., Di, L., Mueller, R., 2012. CropScape: A Web service based application for exploring and disseminating US conterminous geospatial cropland data products for decision support. Computers and Electronics in Agriculture, 84, 111–123.\n",
    "\n",
    "Boryan, C., Yang, Z., Willis, P., 2014. US geospatial crop frequency data layers. Third International Conference on Agro-geoinformatics (Agro-geoinformatics 2014), August 11-14, 2014, Beijing, China.\n",
    "\n",
    "Boryan, C., Yang, Z., Mueller, R., Craig, M., 2011. Monitoring US agriculture: the US Department of Agriculture, National Agricultural Statistics Service, Cropland Data Layer Program. Geocarto International, 26(5), 341–358. \n",
    "\n",
    "### ARM Instrument Handbook\n",
    "Cook, D. R. (2018). Eddy correlation flux measurement system (ECOR) instrument handbook (No. DOE/SC-ARM-TR-052). DOE Office of Science Atmospheric Radiation Measurement (ARM) Program (United States).\n",
    "\n",
    "Tang, S., Xie, S., Zhang, Y., & Cook, D. R. (2019). The QCECOR Value-Added Product: Quality-Controlled Eddy Correlation Flux Measurements (No. DOE/SC-ARM-TR-223). DOE Office of Science Atmospheric Radiation Measurement (ARM) Program (United States).\n",
    "\n",
    "### Author\n",
    "Adam Theisen and Ryan Sullivan\n",
    "\n",
    "Corresponding Email: atheisen@anl.gov"
   ]
  }
 ],
 "metadata": {
  "kernelspec": {
   "display_name": "Python 3 (ipykernel)",
   "language": "python",
   "name": "python3"
  },
  "language_info": {
   "codemirror_mode": {
    "name": "ipython",
    "version": 3
   },
   "file_extension": ".py",
   "mimetype": "text/x-python",
   "name": "python",
   "nbconvert_exporter": "python",
   "pygments_lexer": "ipython3",
   "version": "3.10.9"
  },
  "nbdime-conflicts": {
   "local_diff": [
    {
     "diff": [
      {
       "diff": [
        {
         "key": 0,
         "op": "addrange",
         "valuelist": [
          "Python 3"
         ]
        },
        {
         "key": 0,
         "length": 1,
         "op": "removerange"
        }
       ],
       "key": "display_name",
       "op": "patch"
      }
     ],
     "key": "kernelspec",
     "op": "patch"
    }
   ],
   "remote_diff": [
    {
     "diff": [
      {
       "diff": [
        {
         "key": 0,
         "op": "addrange",
         "valuelist": [
          "Python3"
         ]
        },
        {
         "key": 0,
         "length": 1,
         "op": "removerange"
        }
       ],
       "key": "display_name",
       "op": "patch"
      }
     ],
     "key": "kernelspec",
     "op": "patch"
    }
   ]
  },
  "toc-autonumbering": false
 },
 "nbformat": 4,
 "nbformat_minor": 4
}
