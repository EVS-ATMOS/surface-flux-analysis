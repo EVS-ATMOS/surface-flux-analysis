{
 "cells": [
  {
   "cell_type": "code",
   "execution_count": null,
   "id": "63d2a4f9",
   "metadata": {},
   "outputs": [],
   "source": [
    "#Import modules\n",
    "import act\n",
    "import numpy as np\n",
    "import xarray as xr\n",
    "import matplotlib.pyplot as plt\n",
    "import urllib3\n",
    "import pandas as pd\n",
    "import warnings\n",
    "from metpy.units import pandas_dataframe_to_unit_arrays, units\n",
    "from datetime import datetime\n",
    "warnings.simplefilter('ignore')"
   ]
  },
  {
   "cell_type": "code",
   "execution_count": null,
   "id": "18426e70",
   "metadata": {},
   "outputs": [],
   "source": [
    "#What are the possible crop types?\n",
    "df = pd.read_csv('cdl_2022_stat_clip_20230609045923_1995493459.csv')\n",
    "data = np.array(df['Category'])\n",
    "data"
   ]
  },
  {
   "cell_type": "code",
   "execution_count": null,
   "id": "1c69f895",
   "metadata": {
    "scrolled": true
   },
   "outputs": [],
   "source": [
    "# Set your ARM Live data username and password.\n",
    "username = 'username'\n",
    "token = 'token'\n",
    "n = input(f'Facility Number:')\n",
    "# Set the datastream and dates for download.  Let's just look at one week to start\n",
    "# If you don't know the datastream you can always download through data discovery as well\n",
    "# https://adc.arm.gov/discovery/#/\n",
    "# You can also easily change the facility (E14) to other ones as well\n",
    "datastream = f'sgp30qcecorE{int(n)}.s1'\n",
    "startdate = input(f'Input Start Date (YYYYMMDD):')\n",
    "enddate = input(f'Input End Date (YYYYMMDD):')\n",
    "\n",
    "# Download data using the webservice\n",
    "qcecor_files = act.discovery.download_data(username, token, datastream, startdate, enddate)\n",
    "\n",
    "# Download ECOR data using the webservice\n",
    "datastream = f'sgp30ecorE{int(n)}.b1'\n",
    "ecor_files = act.discovery.download_data(username, token, datastream, startdate, enddate)"
   ]
  },
  {
   "cell_type": "code",
   "execution_count": null,
   "id": "29d636d9",
   "metadata": {},
   "outputs": [],
   "source": [
    "# Reading in data to an xarray dataset is very easy using ACT\n",
    "# ARM has some standards that can cause issues with the xarray reader at times\n",
    "ds = act.io.armfiles.read_netcdf(qcecor_files)\n",
    "ds_ecor = act.io.armfiles.read_netcdf(ecor_files)\n",
    "ds_ecor"
   ]
  },
  {
   "cell_type": "code",
   "execution_count": null,
   "id": "84156a96",
   "metadata": {},
   "outputs": [],
   "source": [
    "#Get variables in the proper format\n",
    "wspd = ds_ecor['wind_spd'].values\n",
    "wdir = ds_ecor['wind_dir'].values\n",
    "ustar = ds_ecor['ustar'].values\n",
    "h = ds['sensible_heat_flux'].values\n",
    "lv = ds['latent_heat_flux'].values\n",
    "fc = ds_ecor['fc'].values\n",
    "lat = ds['lat'].values\n",
    "lon = ds['lon'].values\n",
    "times = ds_ecor['time'].values\n",
    "year = times.astype('datetime64[Y]').astype(int) + 1970"
   ]
  },
  {
   "cell_type": "code",
   "execution_count": null,
   "id": "13c12e01",
   "metadata": {},
   "outputs": [],
   "source": [
    "#Subset the times\n",
    "time=[]\n",
    "b = input(f'Decide how to subset your data\\n'\n",
    "         'For weekly data, enter 336\\n'\n",
    "         'For daily data, enter 48\\n'\n",
    "         'For twice-daily data, enter 24\\n'\n",
    "         'For hourly data, enter 2\\n'\n",
    "         'For half-hourly data, enter 1\\n'\n",
    "         'Enter your number here:')\n",
    "c = input(f'Decide the hour offset:')\n",
    "for t in range(2*int(c), len(times), int(b)):\n",
    "    time.append(times[t])\n",
    "time = np.array(time)\n",
    "print(time)"
   ]
  },
  {
   "cell_type": "code",
   "execution_count": null,
   "id": "cc0ae657",
   "metadata": {},
   "outputs": [],
   "source": [
    "#Subset the data and put into a text file\n",
    "outfile = open(f'flux_data.txt', 'w')\n",
    "for a in range(2*int(c), len(times), int(b)):\n",
    "    outfile.writelines(f'{(wdir[a]):6.2f}  {(wspd[a]):.2f}  {(h[a]):6.2f}  {(lv[a]):6.2f}  {(fc[a]):5.2f}  {(lat[a]):.2f}  {(lon[a]):.2f}')\n",
    "    outfile.writelines(f'\\n')\n",
    "outfile.close()\n",
    "ds1 = np.loadtxt('flux_data.txt')\n",
    "ds1"
   ]
  },
  {
   "cell_type": "code",
   "execution_count": null,
   "id": "ce223c86",
   "metadata": {},
   "outputs": [],
   "source": [
    "#Turn the text file into an xarray dataset\n",
    "ds2 = xr.Dataset(\n",
    "    data_vars=dict(\n",
    "        sensible_heat_flux=([\"time\"], ds1[0:,2]),\n",
    "        latent_heat_flux=([\"time\"], ds1[0:,3]),\n",
    "        wdir2=([\"time\"], ds1[0:,0]),\n",
    "        wspd2=([\"time\"], ds1[0:,1]),\n",
    "        co2_flux=([\"time\"], ds1[0:,4]),\n",
    "    ),\n",
    "    coords=dict(\n",
    "        lat=ds1[0:,5],\n",
    "        lon=ds1[0:,6],\n",
    "    ),\n",
    "    attrs=dict(description=\"Flux Data\"),\n",
    ")\n",
    "ds2['time'] = time\n",
    "ds2"
   ]
  },
  {
   "cell_type": "code",
   "execution_count": null,
   "id": "dc9df0f0",
   "metadata": {},
   "outputs": [],
   "source": [
    "#Turn the data into individual variables\n",
    "wdir2 = ds2['wdir2']\n",
    "wspd2 = ds2['wspd2']\n",
    "sensible_heat_flux = ds2['sensible_heat_flux']\n",
    "latent_heat_flux = ds2['latent_heat_flux']\n",
    "co2_flux = ds2['co2_flux'] "
   ]
  },
  {
   "cell_type": "code",
   "execution_count": null,
   "id": "c875ea43",
   "metadata": {},
   "outputs": [],
   "source": [
    "# We can use xarray funcationality to quickly plot up the data\n",
    "ds2['sensible_heat_flux'].plot()"
   ]
  },
  {
   "cell_type": "code",
   "execution_count": null,
   "id": "faa1da95",
   "metadata": {},
   "outputs": [],
   "source": [
    "ds2['latent_heat_flux'].plot()"
   ]
  },
  {
   "cell_type": "code",
   "execution_count": null,
   "id": "75b81d38",
   "metadata": {},
   "outputs": [],
   "source": [
    "# Let's just make sure the wind data looks good as well\n",
    "ds2['wspd2'].plot()"
   ]
  },
  {
   "cell_type": "code",
   "execution_count": null,
   "id": "087dfbb6",
   "metadata": {},
   "outputs": [],
   "source": [
    "# First, let's build a function that has the \"Good\" fetch directions defined\n",
    "def get_arm_fetch(site, fac):\n",
    "    \"\"\"\n",
    "    Each SGP ECOR site has specific directions where the fetch is good\n",
    "    These ranges list are of good fetch directions\n",
    "    \"\"\"\n",
    "    ranges=[]\n",
    "    if site == 'sgp':\n",
    "        if fac == 'E1':  #ECOR\n",
    "            ranges = [[0, 53], [120, 360]]\n",
    "        if fac == 'E2':  # EBBR\n",
    "            ranges = [[71, 137], [223, 289]]\n",
    "        if fac == 'E3':  #ECOR\n",
    "            ranges = [[0, 48], [132, 260]]\n",
    "        if fac == 'E4':  # EBBR\n",
    "            ranges = [[0, 158], [202, 360]]\n",
    "        if fac == 'E5':  #ECOR\n",
    "            ranges = [[80, 154], [154, 260]]\n",
    "        if fac == 'E6':  #ECOR\n",
    "            ranges = [[0, 360]]\n",
    "        if fac == 'E7':  # EBBR\n",
    "            ranges = [[0, 244], [296, 360]]\n",
    "        if fac == 'E8':  # EBBR\n",
    "            ranges = [[0, 224], [314, 360]]\n",
    "        if fac == 'E9':  # EBBR\n",
    "            ranges = [[0, 360]]\n",
    "        if fac == 'E10':  #ECOR\n",
    "            ranges = [[0, 360]]\n",
    "        if fac == 'E11':  # EBBR\n",
    "            ranges = [[0, 360]]\n",
    "        if fac == 'E12':  # EBBR\n",
    "            ranges = [[0, 360]]\n",
    "        if fac == 'E13':  # EBBR\n",
    "            ranges = [[0, 52], [142, 194], [328, 360]]\n",
    "        if fac == 'E14':  #ECOR\n",
    "            ranges = [[129, 265], [352, 360], [0, 85]]\n",
    "        if fac == 'E15':  # EBBR\n",
    "            ranges = [[133, 360]]\n",
    "        if fac == 'E16':  #ECOR\n",
    "            ranges = [[134, 269], [334, 360]]\n",
    "        if fac == 'E18':  # EBBR\n",
    "            ranges = [[138, 325]]\n",
    "        if fac == 'E19':  # EBBR\n",
    "            ranges = [[0, 133], [151, 360]]\n",
    "        if fac == 'E20':  # EBBR\n",
    "            ranges = [[0, 230], [310, 360]]\n",
    "        if fac == 'E21':  #ECOR\n",
    "            ranges = [[30, 360]]\n",
    "        if fac == 'E22':  # EBBR\n",
    "            ranges = [[0, 49], [139, 360]]\n",
    "        if fac == 'E24':  #ECOR\n",
    "            ranges = [[80, 280]]\n",
    "        if fac == 'E25':  # EBBR\n",
    "            ranges = [[30, 360]]\n",
    "        if fac == 'E26':  # EBBR\n",
    "            ranges = [[0, 33], [243, 360]]\n",
    "        if fac == 'E27':  # EBBR\n",
    "            ranges = [[20,156]]\n",
    "        if fac == 'E31':  #ECOR\n",
    "            ranges = [[100, 200], [30, 80]]\n",
    "        if fac == 'E32':  # EBBR\n",
    "            ranges = [[0,360]]\n",
    "        if fac == 'E33':  #ECOR\n",
    "            ranges = [[100, 300], [40, 80]]\n",
    "        if fac == 'E34':  # EBBR\n",
    "            ranges = [[0,360]]\n",
    "        if fac == 'E35':  # EBBR\n",
    "            ranges = [[0,360]]\n",
    "        if fac == 'E36':  # EBBR\n",
    "            ranges = [[0,360]]\n",
    "        if fac == 'E37':  #ECOR\n",
    "            ranges = [[135, 260], [280, 310]]\n",
    "        if fac == 'E38':  #ECOR\n",
    "            ranges = [[150, 260]]\n",
    "        if fac == 'E39':  #ECOR\n",
    "            ranges = [[100, 260], [280, 360], [0, 80]]\n",
    "        if fac == 'E40':  # EBBR\n",
    "            ranges = [[0,360]]\n",
    "        if fac == 'E41':  #ECOR\n",
    "            ranges = [[100, 260], [280, 360], [0, 80]]\n",
    "\n",
    "    return ranges"
   ]
  },
  {
   "cell_type": "code",
   "execution_count": null,
   "id": "523584cc",
   "metadata": {},
   "outputs": [],
   "source": []
  },
  {
   "cell_type": "code",
   "execution_count": null,
   "id": "8cb66f2d",
   "metadata": {
    "scrolled": true
   },
   "outputs": [],
   "source": [
    "urllib3.disable_warnings()\n",
    "# Get good fetch ranges for this site\n",
    "site = ds.attrs['site_id']\n",
    "fac = ds.attrs['facility_id']\n",
    "ranges = get_arm_fetch(site, fac)\n",
    "#Get the crop types\n",
    "crop = []\n",
    "\n",
    "for i, d in enumerate(wdir2):\n",
    "    lat2, lon2 = act.utils.geo_utils.destination_azimuth_distance(lat[0], lon[0], d, 100.)\n",
    "    if np.isnan(lat2) or np.isnan(lon2):\n",
    "        crop.append(np.nan)\n",
    "    else:\n",
    "        crop.append(act.discovery.get_cropscape.croptype(lat2, lon2, year[i]))\n",
    "        print(crop[i])"
   ]
  },
  {
   "cell_type": "code",
   "execution_count": null,
   "id": "9df4e1d9",
   "metadata": {},
   "outputs": [],
   "source": [
    "#Create an array of the crop types, then add it to our dataset\n",
    "da = xr.DataArray(data=crop, dims=ds2['wdir2'].dims, name='crop_type')\n",
    "ds2['crop_type']=da"
   ]
  },
  {
   "cell_type": "code",
   "execution_count": null,
   "id": "205bb2e3",
   "metadata": {},
   "outputs": [],
   "source": [
    "#What crop types are we working with?\n",
    "crop_list = []\n",
    "for j in range(0, 89):\n",
    "    if data[j] in da:\n",
    "        if len(np.where(da == data[j])[0]) > 1:\n",
    "            crop_list.append(data[j])\n",
    "crop_list"
   ]
  },
  {
   "cell_type": "code",
   "execution_count": null,
   "id": "5a15d8fb",
   "metadata": {
    "scrolled": false
   },
   "outputs": [],
   "source": [
    "#Flux-Time Graphs\n",
    "for x in range(0, len(crop_list)):     \n",
    "    y = np.where(da == crop_list[x])\n",
    "    plt.figure(figsize=(16, 5))\n",
    "    ax = plt.subplot(211)\n",
    "    ax.scatter(time[y], sensible_heat_flux[y], color = 'red', label = 'Sensible Heat Flux')\n",
    "    ax.scatter(time[y], latent_heat_flux[y], color = 'blue', label = 'Latent Heat Flux')\n",
    "    ax.plot(time[y], sensible_heat_flux[y], color = 'darkred')\n",
    "    ax.plot(time[y], latent_heat_flux[y], color = 'darkblue')\n",
    "    ax.set_ylabel('Heat Flux (W/m^2)')\n",
    "    ax.set_title(f\"Fluxes Over Time for {crop_list[x]}\")\n",
    "    ax.legend()\n",
    "    ax = plt.subplot(212)\n",
    "    ax.scatter(time[y], co2_flux[y], color = 'green', label = 'CO2 Flux')\n",
    "    ax.plot(time[y], co2_flux[y], color = 'darkgreen')\n",
    "    ax.set_xlabel('Time')\n",
    "    ax.set_ylabel('CO2 Flux (umol/(sm^2))')\n",
    "    ax.legend()"
   ]
  },
  {
   "cell_type": "code",
   "execution_count": null,
   "id": "abda4091",
   "metadata": {},
   "outputs": [],
   "source": [
    "#Histograms\n",
    "for x in range(0, len(crop_list)):  \n",
    "    ds3 = ds2.where(ds2.crop_type == f'{crop_list[x]}')\n",
    "    hist = act.plotting.HistogramDisplay({f'{crop_list[x]}': ds3}, subplot_shape=(1,3), figsize=(19, 5))\n",
    "    hist.plot_stairstep_graph('sensible_heat_flux', dsname=f'{crop_list[x]}', subplot_index=(0,0), label=f'{crop_list[x]}')\n",
    "    hist.plot_stairstep_graph('latent_heat_flux', dsname=f'{crop_list[x]}', subplot_index=(0,1), label=f'{crop_list[x]}')\n",
    "    hist.plot_stairstep_graph('co2_flux', dsname=f'{crop_list[x]}', subplot_index=(0,2), label=f'{crop_list[x]}')"
   ]
  },
  {
   "cell_type": "code",
   "execution_count": null,
   "id": "53f9a46d",
   "metadata": {},
   "outputs": [],
   "source": [
    "#Polar Coordinate Graphs\n",
    "for x in range(0, len(crop_list)):\n",
    "\n",
    "    ds3 = ds2.where(ds2.crop_type == f'{crop_list[x]}')\n",
    "    \n",
    "    display = act.plotting.WindRoseDisplay({f'{crop_list[x]}': ds3},\n",
    "                                           subplot_shape=(1,3), figsize=(16,6))\n",
    "    display.plot_data('wdir2', 'wspd2', 'sensible_heat_flux', num_dirs=12, plot_type='contour', \n",
    "                      dsname=f'{crop_list[x]}', subplot_index=(0,0), contour_type='mean', num_data_bins=10,\n",
    "    clevels=21)\n",
    "    display.plot_data('wdir2', 'wspd2', 'latent_heat_flux', num_dirs=12, plot_type='contour', \n",
    "                      dsname=f'{crop_list[x]}', subplot_index=(0,1), contour_type='mean', num_data_bins=10,\n",
    "    clevels=21)\n",
    "    display.plot_data('wdir2', 'wspd2', 'co2_flux', num_dirs=12, plot_type='contour', \n",
    "                      dsname=f'{crop_list[x]}', subplot_index=(0,2), contour_type='mean', num_data_bins=10,\n",
    "    clevels=21)"
   ]
  },
  {
   "cell_type": "code",
   "execution_count": null,
   "id": "21265db5",
   "metadata": {},
   "outputs": [],
   "source": [
    "#Polar Coordinate Graphs\n",
    "for x in range(0, len(crop_list)):\n",
    "\n",
    "    ds3 = ds2.where(ds2.crop_type == f'{crop_list[x]}')\n",
    "    \n",
    "    display = act.plotting.WindRoseDisplay({f'{crop_list[x]}': ds3},\n",
    "                                           subplot_shape=(1,3), figsize=(16,6))\n",
    "    display.plot_data('wdir2', 'wspd2', 'sensible_heat_flux', num_dirs=12, plot_type='contour', \n",
    "                      dsname=f'{crop_list[x]}', subplot_index=(0,0), contour_type='mean')\n",
    "    display.plot_data('wdir2', 'wspd2', 'latent_heat_flux', num_dirs=12, plot_type='contour', \n",
    "                      dsname=f'{crop_list[x]}', subplot_index=(0,1), contour_type='mean')\n",
    "    display.plot_data('wdir2', 'wspd2', 'co2_flux', num_dirs=12, plot_type='contour', \n",
    "                      dsname=f'{crop_list[x]}', subplot_index=(0,2), contour_type='mean')"
   ]
  },
  {
   "cell_type": "code",
   "execution_count": null,
   "id": "7176e5b2",
   "metadata": {},
   "outputs": [],
   "source": []
  },
  {
   "cell_type": "code",
   "execution_count": null,
   "id": "9e50d49f",
   "metadata": {},
   "outputs": [],
   "source": []
  }
 ],
 "metadata": {
  "kernelspec": {
   "display_name": "Python 3 (ipykernel)",
   "language": "python",
   "name": "python3"
  },
  "language_info": {
   "codemirror_mode": {
    "name": "ipython",
    "version": 3
   },
   "file_extension": ".py",
   "mimetype": "text/x-python",
   "name": "python",
   "nbconvert_exporter": "python",
   "pygments_lexer": "ipython3",
   "version": "3.11.3"
  }
 },
 "nbformat": 4,
 "nbformat_minor": 5
}
